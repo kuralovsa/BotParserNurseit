{
 "cells": [
  {
   "cell_type": "code",
   "execution_count": 18,
   "id": "9238a766",
   "metadata": {},
   "outputs": [],
   "source": [
    "import pandas\n",
    "import requests\n",
    "import time\n",
    "\n",
    "from pandas.io.json import json_normalize\n",
    "\n",
    "\n",
    "def parse(name: str, area: int, only_with_salary: str, experience: str, currency: str, professional_role: str, employment: str, schedule: str,salary: str):\n",
    "    params = {\n",
    "        'text': name,  # Текст фильтра. В имени должно быть слово \"Аналитик\"\n",
    "        'area': area,  # Поиск ощуществляется по вакансиям города area\n",
    "        'only_with_salary': only_with_salary,\n",
    "        'professional_role': professional_role,\n",
    "        'currency': currency,\n",
    "        'schedule': schedule,\n",
    "        'employment': employment,\n",
    "        'experience': experience,\n",
    "        'salary': salary,\n",
    "        'locale': 'KZ',\n",
    "        'language': 'kz',\n",
    "        'host': 'hh.kz',\n",
    "        'page': 0,  # Индекс страницы поиска на HH\n",
    "        'per_page': 30  # Кол-во вакансий на 1 странице\n",
    "\n",
    "    }\n",
    "\n",
    "    req = requests.get('https://api.hh.ru/vacancies', params)\n",
    "\n",
    "    jsonObj = pandas.DataFrame(json.loads(req.content.decode()))\n",
    "\n",
    "    jsonObj.to_excel(\"excel.xlsx\")\n",
    "    # nextFileName = 'Parse.json'\n",
    "#\n",
    "    # f = open(nextFileName, mode='w', encoding='utf8')\n",
    "    # f.write(json.dumps(jsonObj, ensure_ascii=False))\n",
    "    # f.close()\n",
    "    req.close()\n",
    "    time.sleep(0.25)\n",
    "\n",
    "\n",
    "parse(name='Web',\n",
    "      area=159,\n",
    "      only_with_salary='true',\n",
    "      experience='between1And3',\n",
    "      currency='KZT',\n",
    "      professional_role='96',\n",
    "      employment='full',\n",
    "      schedule='fullDay',\n",
    "      salary='100000')"
   ]
  },
  {
   "cell_type": "code",
   "execution_count": null,
   "id": "a0bfe180",
   "metadata": {},
   "outputs": [],
   "source": []
  }
 ],
 "metadata": {
  "kernelspec": {
   "display_name": "Python 3 (ipykernel)",
   "language": "python",
   "name": "python3"
  },
  "language_info": {
   "codemirror_mode": {
    "name": "ipython",
    "version": 3
   },
   "file_extension": ".py",
   "mimetype": "text/x-python",
   "name": "python",
   "nbconvert_exporter": "python",
   "pygments_lexer": "ipython3",
   "version": "3.9.7"
  }
 },
 "nbformat": 4,
 "nbformat_minor": 5
}
